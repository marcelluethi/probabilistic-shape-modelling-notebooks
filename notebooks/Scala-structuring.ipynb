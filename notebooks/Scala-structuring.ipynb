{
 "cells": [
  {
   "cell_type": "markdown",
   "metadata": {
    "slideshow": {
     "slide_type": "slide"
    }
   },
   "source": [
    "<div style=\"text-align:center\"> \n",
    "    <h1>Scala - Structuring Programs</h1>\n",
    "    <h3>Marcel Lüthi <br/> Departement of Mathematics and Computer Science</h3>\n",
    "</div>"
   ]
  },
  {
   "cell_type": "markdown",
   "metadata": {
    "slideshow": {
     "slide_type": "slide"
    }
   },
   "source": [
    "# Outline\n",
    "\n",
    "- Repetition: The basic building blocks\n",
    "- Scala - the simple parts\n",
    "   - Objects\n",
    "   - Groups\n",
    "   - Collections\n",
    "   - For-loops\n",
    "   - Algebraic data types\n",
    "- Case study: Scalismo's IO Methods and ```Try``` "
   ]
  },
  {
   "cell_type": "markdown",
   "metadata": {
    "slideshow": {
     "slide_type": "slide"
    }
   },
   "source": [
    "# Expression, types and values\n",
    "\n",
    "![expression-types-values](./images/expression-types-values.png)"
   ]
  },
  {
   "cell_type": "markdown",
   "metadata": {
    "slideshow": {
     "slide_type": "slide"
    }
   },
   "source": [
    "# Blocks\n",
    "\n",
    "* Sequence of expression\n",
    "    * Itself an expression\n",
    "* Last line determines value\n",
    "* Can be named\n",
    "\n",
    "```scala \n",
    "val result = {\n",
    "    val x = 1 + 1\n",
    "    x + 1\n",
    "}\n",
    "```"
   ]
  },
  {
   "cell_type": "markdown",
   "metadata": {
    "slideshow": {
     "slide_type": "slide"
    }
   },
   "source": [
    "# Functions\n",
    "\n",
    "* Expressions that take parameter\n",
    "\n",
    "![functions](./images/functions.png)"
   ]
  },
  {
   "cell_type": "markdown",
   "metadata": {
    "slideshow": {
     "slide_type": "slide"
    }
   },
   "source": [
    "# Functions\n",
    "\n",
    "* Functions are blocks are expressions and hence can be named\n",
    "\n",
    "```scala \n",
    "val f = (x : Int) => {\n",
    "    val y = 1\n",
    "    x + y\n",
    "} \n",
    "```"
   ]
  },
  {
   "cell_type": "markdown",
   "metadata": {
    "slideshow": {
     "slide_type": "slide"
    }
   },
   "source": [
    "# Object-oriented programming\n",
    "\n",
    "Scala has \n",
    "* classes\n",
    "* objects\n",
    "* traits (interfaces)"
   ]
  },
  {
   "cell_type": "markdown",
   "metadata": {
    "slideshow": {
     "slide_type": "slide"
    }
   },
   "source": [
    "# Object-oriented programming\n",
    "\n",
    "```scala\n",
    "\n",
    "trait Printable {\n",
    "    def printToString(s : String) : String \n",
    "}\n",
    "\n",
    "class MyNumber(number : Double) extends Printable {\n",
    "    override def printToString(s + number) : String = {\n",
    "        s + number.toString\n",
    "    }\n",
    "}\n",
    "\n",
    "```"
   ]
  },
  {
   "cell_type": "markdown",
   "metadata": {
    "slideshow": {
     "slide_type": "slide"
    }
   },
   "source": [
    "# Case-classes and objects\n",
    "\n",
    "#### Case class\n",
    "\n",
    "* Class with proper equality to organize data\n",
    "\n",
    "```scala\n",
    "case class Point(x : Double, y : Double)\n",
    "```\n",
    "\n",
    "#### Object\n",
    "\n",
    "* One instance only\n",
    "\n",
    "```scala \n",
    "object Universe {\n",
    "    val mass = 4.5e51 //kg \n",
    "}\n",
    "    \n",
    "```\n",
    "\n"
   ]
  },
  {
   "cell_type": "markdown",
   "metadata": {
    "slideshow": {
     "slide_type": "slide"
    }
   },
   "source": [
    "   # Pattern matching\n",
    "   \n",
    "   * Generalizes switch/case statement from java\n",
    "   \n",
    "```scala\n",
    "expression match { \n",
    "    case pattern1 => expression1 \n",
    "    case pattern2 => expression2 \n",
    "    // ...\n",
    "}\n",
    "```\n"
   ]
  },
  {
   "cell_type": "markdown",
   "metadata": {
    "slideshow": {
     "slide_type": "slide"
    }
   },
   "source": [
    "# Parametric types\n",
    "\n",
    "> Types in Scala can be parametric\n",
    "\n",
    "```scala\n",
    "case class Pair[A, B](first : A, second : B)\n",
    "```\n",
    "\n",
    "Usage:\n",
    "```scala\n",
    "val pair1 = Pair(3, 5.0) \n",
    "val pair2 : Pair[String, Int] = Pair(\"abc\", 5)\n",
    "```\n",
    "\n",
    "\n",
    "* Types are inferred automatically when possible\n"
   ]
  },
  {
   "cell_type": "markdown",
   "metadata": {
    "slideshow": {
     "slide_type": "slide"
    }
   },
   "source": [
    "# Scala - the simple parts\n",
    "\n",
    "Slides are loosely based on \n",
    "* [Scala - the simple parts](https://www.slideshare.net/Odersky/scala-the-simple-parts) by Martin Odersky\n"
   ]
  },
  {
   "cell_type": "markdown",
   "metadata": {
    "slideshow": {
     "slide_type": "slide"
    }
   },
   "source": [
    "# Simple vs Easy \n",
    "\n"
   ]
  },
  {
   "cell_type": "markdown",
   "metadata": {
    "slideshow": {
     "slide_type": "fragment"
    }
   },
   "source": [
    "> Simple is often erroneously mistaken for easy. \n",
    ">\n",
    "> * \"Easy\" means \"to be at hand\", \"to be approachable\".\n",
    "> * \"Simple\" is the opposite of \"complex\" which means \"being intertwined\", \"being tied together\".\n",
    ">\n",
    "> Rich Hickey (from the talk [Simple Made Easy](https://www.infoq.com/presentations/Simple-Made-Easy)\n"
   ]
  },
  {
   "cell_type": "markdown",
   "metadata": {
    "slideshow": {
     "slide_type": "slide"
    }
   },
   "source": [
    "# (almost) Everything is an expression\n",
    "\n",
    "* Everything can be composed"
   ]
  },
  {
   "cell_type": "code",
   "execution_count": null,
   "metadata": {},
   "outputs": [],
   "source": [
    "val a = 5\n",
    "val s = \"abc\"\n",
    "\n",
    "println(if (a == 3) \"abc\" else \"cde\")\n",
    "\n",
    "val c: Int = s match {\n",
    "    case \"abc\" => \n",
    "        try { \n",
    "            new java.io.FileInputStream(new java.io.File(\"I do not Exist\")) \n",
    "            7\n",
    "        } catch { \n",
    "        case (e : java.io.FileNotFoundException) => 0 \n",
    "    } \n",
    "    case _ => 2\n",
    "}\n"
   ]
  },
  {
   "cell_type": "markdown",
   "metadata": {
    "slideshow": {
     "slide_type": "slide"
    }
   },
   "source": [
    "# Everything is an object\n",
    "\n",
    "* We always interact with any value by\n",
    "    * Calling methods\n",
    "    * Accessing fields\n",
    "    \n",
    "Example: \n",
    "```scala \n",
    "1 + 3\n",
    "```\n",
    "\n",
    "* 1 is object\n",
    "* ```+``` is method\n",
    "* 3 is Argument\n"
   ]
  },
  {
   "cell_type": "markdown",
   "metadata": {
    "slideshow": {
     "slide_type": "slide"
    }
   },
   "source": [
    "# Mini exercises\n",
    "\n",
    "\n",
    "Create a class Complex for representing complex numbers\n",
    "\n",
    "```scala\n",
    "case class Complex(re : Double, imag : Double)\n",
    "``` \n",
    "\n",
    "* Implement a method called ```+``` to add two complex numbers\n",
    "* Try out the method:\n",
    "    * Do you need the ```.``` to call it?\n",
    "    * Do you need the paranthesis?\n",
    "\n",
    "* Implement a method called ```#*--!```\n",
    "\n"
   ]
  },
  {
   "cell_type": "code",
   "execution_count": null,
   "metadata": {},
   "outputs": [],
   "source": [
    "// type your solution here"
   ]
  },
  {
   "cell_type": "markdown",
   "metadata": {
    "slideshow": {
     "slide_type": "slide"
    }
   },
   "source": [
    "# Groups\n",
    "\n",
    "* Everything can be grouped and nested\n",
    "* Static uniform scoping rules\n",
    "    * Allows naming of thing\n",
    "    * Allows keeping local things in local context\n"
   ]
  },
  {
   "cell_type": "code",
   "execution_count": null,
   "metadata": {},
   "outputs": [],
   "source": [
    "\n",
    "def foo() : Unit = {\n",
    "    \n",
    "    import collection.immutable.List\n",
    "    \n",
    "    case class KeyValue(key : String, value : Int)\n",
    "    val list = List(KeyValue(\"A\", 3), KeyValue(\"B\", 2))\n",
    "    def keyIsA(kv : KeyValue) : Boolean = { kv.key == \"A\" }\n",
    "    list.count(keyIsA)\n",
    "}"
   ]
  },
  {
   "cell_type": "markdown",
   "metadata": {
    "slideshow": {
     "slide_type": "slide"
    }
   },
   "source": [
    "# Collections\n",
    "\n",
    "* Collections aggregate data\n",
    "* Transformed to manipulate data\n",
    "    * updates not possible with default collections\n",
    "* Uniform interface - Learn once, use everywhere\n",
    "\n",
    "\n",
    "> Essence of functional programming"
   ]
  },
  {
   "cell_type": "markdown",
   "metadata": {
    "slideshow": {
     "slide_type": "slide"
    }
   },
   "source": [
    "# Collections - Basic operations"
   ]
  },
  {
   "cell_type": "code",
   "execution_count": null,
   "metadata": {
    "slideshow": {
     "slide_type": "fragment"
    }
   },
   "outputs": [],
   "source": [
    "val people = Seq(\"bob martin\", \"john doe\", \"william tell\")"
   ]
  },
  {
   "cell_type": "code",
   "execution_count": null,
   "metadata": {
    "slideshow": {
     "slide_type": "fragment"
    }
   },
   "outputs": [],
   "source": [
    "people.map(name => name.toUpperCase)"
   ]
  },
  {
   "cell_type": "code",
   "execution_count": null,
   "metadata": {
    "slideshow": {
     "slide_type": "fragment"
    }
   },
   "outputs": [],
   "source": [
    "people.filter(name => name.startsWith(\"b\"))"
   ]
  },
  {
   "cell_type": "code",
   "execution_count": null,
   "metadata": {
    "slideshow": {
     "slide_type": "fragment"
    }
   },
   "outputs": [],
   "source": [
    "people.flatMap(name => name.split(\" \"))"
   ]
  },
  {
   "cell_type": "markdown",
   "metadata": {
    "slideshow": {
     "slide_type": "slide"
    }
   },
   "source": [
    "# Mini exercise\n",
    "\n",
    "* Create a sequence of values from 1 to 10\n",
    "* Double each value in the sequence\n",
    "* Filter out the values that can be divided by 7\n",
    "* Create a sequence of values like this:\n",
    "    ```1, 2, 3, 2, 3, 4, 3, 4, 5, ...```\n",
    "* Create the cartesian product of the numbers 1 to 10 using only map and flatmap\n"
   ]
  },
  {
   "cell_type": "markdown",
   "metadata": {
    "slideshow": {
     "slide_type": "slide"
    }
   },
   "source": [
    "# For - loops\n",
    "\n",
    "> Scala has also for loops"
   ]
  },
  {
   "cell_type": "code",
   "execution_count": null,
   "metadata": {
    "slideshow": {
     "slide_type": "fragment"
    }
   },
   "outputs": [],
   "source": [
    "for (i <- 0 until 10) {\n",
    "    print(i + \" \")\n",
    "}"
   ]
  },
  {
   "cell_type": "code",
   "execution_count": null,
   "metadata": {
    "slideshow": {
     "slide_type": "fragment"
    }
   },
   "outputs": [],
   "source": [
    "val evenNumbers = for (i <- 0 until 10) yield {\n",
    "    i * 2\n",
    "}"
   ]
  },
  {
   "cell_type": "markdown",
   "metadata": {
    "slideshow": {
     "slide_type": "slide"
    }
   },
   "source": [
    "# Not your father's for loops\n",
    "\n",
    "> For loops are only syntactic sugar\n",
    "\n",
    "The two expressions are the same:\n",
    "```scala\n",
    "(0 until 10).map(i => i * 2)\n",
    "```\n",
    "```scala\n",
    "for (i <- 0 until 10) yield {\n",
    "    i * 2\n",
    "}\n",
    "```\n"
   ]
  },
  {
   "cell_type": "markdown",
   "metadata": {
    "slideshow": {
     "slide_type": "slide"
    }
   },
   "source": [
    "# Not your father's for loops\n",
    "\n",
    "> For loops are only syntactic sugar\n",
    "\n",
    "The two expressions are the same:\n",
    "```scala\n",
    "(0 until 10).filter(i => i % 2 == 0)\n",
    "```\n",
    "```scala\n",
    "for (i <- 0 until 10 if i % 2 == 0) yield {\n",
    "    i\n",
    "}\n",
    "```\n"
   ]
  },
  {
   "cell_type": "markdown",
   "metadata": {
    "slideshow": {
     "slide_type": "slide"
    }
   },
   "source": [
    "# Not your father's for loops\n",
    "\n",
    "> For loops are only syntactic sugar\n",
    "\n",
    "The two expressions are the same:\n",
    "```scala\n",
    "(0 until 10).flatMap(i =>(i until i + 2))\n",
    "```\n",
    "```scala\n",
    "for (i <- (0 until 10; \n",
    "           iSeq <- i until i + 2) yield iSeq\n",
    "```\n",
    "\n"
   ]
  },
  {
   "cell_type": "markdown",
   "metadata": {
    "slideshow": {
     "slide_type": "slide"
    }
   },
   "source": [
    "# Not your father's for loops\n",
    "\n",
    "> For loops are only syntactic sugar\n",
    "\n",
    "Makes complicated expressions look simple\n",
    "```scala\n",
    "for (i <- 0 until 10;\n",
    "     j <- 0 until 10;\n",
    "     if (i + j) == 7) yield (i , j)\n",
    "```\n",
    "\n"
   ]
  },
  {
   "cell_type": "markdown",
   "metadata": {
    "slideshow": {
     "slide_type": "slide"
    }
   },
   "source": [
    "# Algebraic data types\n",
    "\n",
    "\n",
    "> Sum types\n",
    "* A is either B or C \n",
    "\n",
    "```scala\n",
    "trait A\n",
    "case class B() extends A\n",
    "case class C() extends A\n",
    "```\n"
   ]
  },
  {
   "cell_type": "markdown",
   "metadata": {
    "slideshow": {
     "slide_type": "slide"
    }
   },
   "source": [
    "# Algebraic data types\n",
    "\n",
    "> Product types\n",
    "* A and B\n",
    "\n",
    "```scala\n",
    "case class C(a : A, b : B)\n",
    "```"
   ]
  },
  {
   "cell_type": "markdown",
   "metadata": {
    "slideshow": {
     "slide_type": "slide"
    }
   },
   "source": [
    "# Algebraic data types: Example"
   ]
  },
  {
   "cell_type": "code",
   "execution_count": null,
   "metadata": {},
   "outputs": [],
   "source": [
    "trait Expression \n",
    "case class Number(n : Int) extends Expression\n",
    "case class Plus(a : Expression, b : Expression) extends Expression\n",
    "case class Minus(a : Expression, b : Expression) extends Expression\n",
    "\n",
    "val expression = Plus(Number(5), Minus(Number(3), Number(1)))"
   ]
  },
  {
   "cell_type": "markdown",
   "metadata": {
    "slideshow": {
     "slide_type": "slide"
    }
   },
   "source": [
    "# Taking things apart\n",
    "\n",
    "> Sum types are desctructed by *pattern matching*"
   ]
  },
  {
   "cell_type": "code",
   "execution_count": null,
   "metadata": {
    "slideshow": {
     "slide_type": "fragment"
    }
   },
   "outputs": [],
   "source": [
    "def evaluate(expr : Expression) : Int = {\n",
    "    expr match {\n",
    "        case Number(n) => n\n",
    "        case Plus(a, b) => evaluate(a) + evaluate(b)\n",
    "        case Minus(a, b) => evaluate(a) - evaluate(b)\n",
    "    }\n",
    "}"
   ]
  },
  {
   "cell_type": "markdown",
   "metadata": {
    "slideshow": {
     "slide_type": "slide"
    }
   },
   "source": [
    "# Time to get started\n",
    "\n",
    "![ide](images/ide.png)"
   ]
  }
 ],
 "metadata": {
  "celltoolbar": "Slideshow",
  "kernelspec": {
   "display_name": "Scala",
   "language": "scala",
   "name": "scala"
  },
  "language_info": {
   "codemirror_mode": "text/x-scala",
   "file_extension": ".scala",
   "mimetype": "text/x-scala",
   "name": "scala",
   "nbconvert_exporter": "script",
   "version": "2.12.8"
  }
 },
 "nbformat": 4,
 "nbformat_minor": 2
}
