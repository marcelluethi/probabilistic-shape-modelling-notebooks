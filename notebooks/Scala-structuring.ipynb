{
 "cells": [
  {
   "cell_type": "markdown",
   "metadata": {
    "slideshow": {
     "slide_type": "slide"
    }
   },
   "source": [
    "<div style=\"text-align:center\"> \n",
    "    <h1>Scala - Structuring Programs</h1>\n",
    "    <h3>Marcel Lüthi <br/> Departement of Mathematics and Computer Science</h3>\n",
    "</div>"
   ]
  },
  {
   "cell_type": "markdown",
   "metadata": {
    "slideshow": {
     "slide_type": "slide"
    }
   },
   "source": [
    "# Outline\n",
    "\n",
    "- Objects\n",
    "- Groups\n",
    "- Collections\n",
    "- For-loops\n",
    "- Algebraic data types \n",
    "    * Error handling in Scala/Scalismo"
   ]
  },
  {
   "cell_type": "markdown",
   "metadata": {
    "slideshow": {
     "slide_type": "slide"
    }
   },
   "source": [
    "# Scala - the simple parts\n",
    "\n",
    "Slides are loosely based on \n",
    "* [Scala - the simple parts](https://www.slideshare.net/Odersky/scala-the-simple-parts) by Martin Odersky\n"
   ]
  },
  {
   "cell_type": "markdown",
   "metadata": {
    "slideshow": {
     "slide_type": "slide"
    }
   },
   "source": [
    "## Expressions\n",
    "\n",
    "![expression-types-values](./images/expression-types-values.png)\n",
    "\n",
    "* Almost everything in Scala is an expression"
   ]
  },
  {
   "cell_type": "markdown",
   "metadata": {
    "slideshow": {
     "slide_type": "slide"
    }
   },
   "source": [
    "## Expressions can be composed\n"
   ]
  },
  {
   "cell_type": "code",
   "execution_count": 1,
   "metadata": {},
   "outputs": [
    {
     "name": "stdout",
     "output_type": "stream",
     "text": [
      "cde\n"
     ]
    },
    {
     "data": {
      "text/plain": [
       "\u001b[36ma\u001b[39m: \u001b[32mInt\u001b[39m = \u001b[32m5\u001b[39m\r\n",
       "\u001b[36ms\u001b[39m: \u001b[32mString\u001b[39m = \u001b[32m\"abc\"\u001b[39m\r\n",
       "\u001b[36mc\u001b[39m: \u001b[32mInt\u001b[39m = \u001b[32m0\u001b[39m"
      ]
     },
     "execution_count": 1,
     "metadata": {},
     "output_type": "execute_result"
    }
   ],
   "source": [
    "val a = 5\n",
    "val s = \"abc\"\n",
    "\n",
    "println(if (a == 3) \"abc\" else \"cde\")\n",
    "\n",
    "val c: Int = s match {\n",
    "    case \"abc\" => \n",
    "        try { \n",
    "            new java.io.FileInputStream(new java.io.File(\"I do not Exist\")) \n",
    "            7\n",
    "        } catch { \n",
    "        case (e : java.io.FileNotFoundException) => 0 \n",
    "    } \n",
    "    case _ => 2\n",
    "}\n"
   ]
  },
  {
   "cell_type": "markdown",
   "metadata": {
    "slideshow": {
     "slide_type": "slide"
    }
   },
   "source": [
    "# Everything is an object\n",
    "\n",
    "* We always interact with any value by\n",
    "    * Calling methods\n",
    "    * Accessing fields\n",
    "    \n",
    "Example: \n",
    "```scala \n",
    "1 + 3\n",
    "```\n",
    "\n",
    "* 1 is object\n",
    "* ```+``` is method\n",
    "* 3 is Argument\n"
   ]
  },
  {
   "cell_type": "markdown",
   "metadata": {
    "slideshow": {
     "slide_type": "slide"
    }
   },
   "source": [
    "# Mini exercises\n",
    "\n",
    "\n",
    "Create a class Complex for representing complex numbers\n",
    "\n",
    "```scala\n",
    "case class Complex(re : Double, imag : Double)\n",
    "``` \n",
    "\n",
    "* Implement a method called ```+``` to add two complex numbers\n",
    "* Try out the method:\n",
    "    * Do you need the ```.``` to call it?\n",
    "    * Do you need the paranthesis?\n",
    "\n",
    "* Implement a method called ```#*--!```\n",
    "\n"
   ]
  },
  {
   "cell_type": "markdown",
   "metadata": {
    "slideshow": {
     "slide_type": "slide"
    }
   },
   "source": [
    "# Groups\n",
    "\n",
    "* Everything can be grouped and nested\n",
    "* Static uniform scoping rules\n",
    "    * Allows naming of thing\n",
    "    * Allows keeping local things in local context\n"
   ]
  },
  {
   "cell_type": "code",
   "execution_count": 2,
   "metadata": {},
   "outputs": [
    {
     "data": {
      "text/plain": [
       "defined \u001b[32mfunction\u001b[39m \u001b[36mfoo\u001b[39m"
      ]
     },
     "execution_count": 2,
     "metadata": {},
     "output_type": "execute_result"
    }
   ],
   "source": [
    "\n",
    "def foo() : Unit = {\n",
    "    \n",
    "    import collection.immutable.List\n",
    "    \n",
    "    case class KeyValue(key : String, value : Int)\n",
    "    val list = List(KeyValue(\"A\", 3), KeyValue(\"B\", 2))\n",
    "    def keyIsA(kv : KeyValue) : Boolean = { kv.key == \"A\" }\n",
    "    list.count(keyIsA)\n",
    "}"
   ]
  },
  {
   "cell_type": "markdown",
   "metadata": {
    "slideshow": {
     "slide_type": "slide"
    }
   },
   "source": [
    "# Collections\n",
    "\n",
    "* Collections aggregate data\n",
    "* Transformed to manipulate data\n",
    "    * updates not possible with default collections\n",
    "* Uniform interface - Learn once, use everywhere\n",
    "\n",
    "\n",
    "> Essence of functional programming"
   ]
  },
  {
   "cell_type": "markdown",
   "metadata": {
    "slideshow": {
     "slide_type": "slide"
    }
   },
   "source": [
    "# Collections - Basic operations"
   ]
  },
  {
   "cell_type": "code",
   "execution_count": 3,
   "metadata": {
    "slideshow": {
     "slide_type": "fragment"
    }
   },
   "outputs": [
    {
     "data": {
      "text/plain": [
       "\u001b[36mpeople\u001b[39m: \u001b[32mSeq\u001b[39m[\u001b[32mString\u001b[39m] = \u001b[33mList\u001b[39m(\u001b[32m\"bob martin\"\u001b[39m, \u001b[32m\"john doe\"\u001b[39m, \u001b[32m\"william tell\"\u001b[39m)"
      ]
     },
     "execution_count": 3,
     "metadata": {},
     "output_type": "execute_result"
    }
   ],
   "source": [
    "val people = Seq(\"bob martin\", \"john doe\", \"william tell\")"
   ]
  },
  {
   "cell_type": "code",
   "execution_count": 4,
   "metadata": {
    "slideshow": {
     "slide_type": "fragment"
    }
   },
   "outputs": [
    {
     "data": {
      "text/plain": [
       "\u001b[36mres3\u001b[39m: \u001b[32mSeq\u001b[39m[\u001b[32mString\u001b[39m] = \u001b[33mList\u001b[39m(\u001b[32m\"BOB MARTIN\"\u001b[39m, \u001b[32m\"JOHN DOE\"\u001b[39m, \u001b[32m\"WILLIAM TELL\"\u001b[39m)"
      ]
     },
     "execution_count": 4,
     "metadata": {},
     "output_type": "execute_result"
    }
   ],
   "source": [
    "people.map(name => name.toUpperCase)"
   ]
  },
  {
   "cell_type": "code",
   "execution_count": 5,
   "metadata": {
    "slideshow": {
     "slide_type": "fragment"
    }
   },
   "outputs": [
    {
     "data": {
      "text/plain": [
       "\u001b[36mres4\u001b[39m: \u001b[32mSeq\u001b[39m[\u001b[32mString\u001b[39m] = \u001b[33mList\u001b[39m(\u001b[32m\"bob martin\"\u001b[39m)"
      ]
     },
     "execution_count": 5,
     "metadata": {},
     "output_type": "execute_result"
    }
   ],
   "source": [
    "people.filter(name => name.startsWith(\"b\"))"
   ]
  },
  {
   "cell_type": "code",
   "execution_count": 6,
   "metadata": {
    "slideshow": {
     "slide_type": "fragment"
    }
   },
   "outputs": [
    {
     "data": {
      "text/plain": [
       "\u001b[36mres5\u001b[39m: \u001b[32mSeq\u001b[39m[\u001b[32mString\u001b[39m] = \u001b[33mList\u001b[39m(\u001b[32m\"bob\"\u001b[39m, \u001b[32m\"martin\"\u001b[39m, \u001b[32m\"john\"\u001b[39m, \u001b[32m\"doe\"\u001b[39m, \u001b[32m\"william\"\u001b[39m, \u001b[32m\"tell\"\u001b[39m)"
      ]
     },
     "execution_count": 6,
     "metadata": {},
     "output_type": "execute_result"
    }
   ],
   "source": [
    "people.flatMap(name => name.split(\" \"))"
   ]
  },
  {
   "cell_type": "markdown",
   "metadata": {
    "slideshow": {
     "slide_type": "slide"
    }
   },
   "source": [
    "# Mini exercise\n",
    "\n",
    "* Create a sequence of values from 1 to 10\n",
    "* Double each value in the sequence\n",
    "* Filter out the values that can be divided by 7\n",
    "* Create a sequence of values like this:\n",
    "    ```1, 2, 3, 2, 3, 4, 3, 4, 5, ...```\n",
    "* Create the cartesian product of the numbers 1 to 10 using only map and flatmap\n"
   ]
  },
  {
   "cell_type": "markdown",
   "metadata": {
    "slideshow": {
     "slide_type": "slide"
    }
   },
   "source": [
    "# For - loops\n",
    "\n",
    "> Scala has also for loops"
   ]
  },
  {
   "cell_type": "code",
   "execution_count": 7,
   "metadata": {
    "slideshow": {
     "slide_type": "fragment"
    }
   },
   "outputs": [
    {
     "name": "stdout",
     "output_type": "stream",
     "text": [
      "0 1 2 3 4 5 6 7 8 9 "
     ]
    }
   ],
   "source": [
    "for (i <- 0 until 10) {\n",
    "    print(i + \" \")\n",
    "}"
   ]
  },
  {
   "cell_type": "code",
   "execution_count": 8,
   "metadata": {
    "slideshow": {
     "slide_type": "fragment"
    }
   },
   "outputs": [
    {
     "data": {
      "text/plain": [
       "\u001b[36mevenNumbers\u001b[39m: \u001b[32mIndexedSeq\u001b[39m[\u001b[32mInt\u001b[39m] = \u001b[33mVector\u001b[39m(\u001b[32m0\u001b[39m, \u001b[32m2\u001b[39m, \u001b[32m4\u001b[39m, \u001b[32m6\u001b[39m, \u001b[32m8\u001b[39m, \u001b[32m10\u001b[39m, \u001b[32m12\u001b[39m, \u001b[32m14\u001b[39m, \u001b[32m16\u001b[39m, \u001b[32m18\u001b[39m)"
      ]
     },
     "execution_count": 8,
     "metadata": {},
     "output_type": "execute_result"
    }
   ],
   "source": [
    "val evenNumbers = for (i <- 0 until 10) yield {\n",
    "    i * 2\n",
    "}"
   ]
  },
  {
   "cell_type": "markdown",
   "metadata": {
    "slideshow": {
     "slide_type": "slide"
    }
   },
   "source": [
    "# Not your father's for loops\n",
    "\n",
    "> For loops are only syntactic sugar\n",
    "\n",
    "The two expressions are the same:\n",
    "```scala\n",
    "(0 until 10).map(i => i * 2)\n",
    "```\n",
    "```scala\n",
    "for (i <- 0 until 10) yield {\n",
    "    i * 2\n",
    "}\n",
    "```\n"
   ]
  },
  {
   "cell_type": "markdown",
   "metadata": {
    "slideshow": {
     "slide_type": "slide"
    }
   },
   "source": [
    "# Not your father's for loops\n",
    "\n",
    "> For loops are only syntactic sugar\n",
    "\n",
    "The two expressions are the same:\n",
    "```scala\n",
    "(0 until 10).filter(i => i % 2 == 0)\n",
    "```\n",
    "```scala\n",
    "for (i <- 0 until 10 if i % 2 == 0) yield {\n",
    "    i\n",
    "}\n",
    "```\n"
   ]
  },
  {
   "cell_type": "markdown",
   "metadata": {
    "slideshow": {
     "slide_type": "slide"
    }
   },
   "source": [
    "# Not your father's for loops\n",
    "\n",
    "> For loops are only syntactic sugar\n",
    "\n",
    "The two expressions are the same:\n",
    "```scala\n",
    "(0 until 10).flatMap(i =>(i until i + 2))\n",
    "```\n",
    "```scala\n",
    "for (i <- (0 until 10; \n",
    "           iSeq <- i until i + 2) yield iSeq\n",
    "```\n",
    "\n"
   ]
  },
  {
   "cell_type": "markdown",
   "metadata": {
    "slideshow": {
     "slide_type": "slide"
    }
   },
   "source": [
    "# Not your father's for loops\n",
    "\n",
    "> For loops are only syntactic sugar\n",
    "\n",
    "Makes complicated expressions look simple\n",
    "```scala\n",
    "for (i <- 0 until 10;\n",
    "     j <- 0 until 10;\n",
    "     if (i + j) == 7) yield (i , j)\n",
    "```\n",
    "\n"
   ]
  },
  {
   "cell_type": "markdown",
   "metadata": {
    "slideshow": {
     "slide_type": "slide"
    }
   },
   "source": [
    "# Algebraic data types\n",
    "\n",
    "\n",
    "> Sum types\n",
    "* A is either B or C \n",
    "\n",
    "```scala\n",
    "trait A\n",
    "case class B() extends A\n",
    "case class C() extends A\n",
    "```\n"
   ]
  },
  {
   "cell_type": "markdown",
   "metadata": {
    "slideshow": {
     "slide_type": "slide"
    }
   },
   "source": [
    "# Algebraic data types\n",
    "\n",
    "> Product types\n",
    "* A and B\n",
    "\n",
    "```scala\n",
    "case class C(a : A, b : B)\n",
    "```"
   ]
  },
  {
   "cell_type": "markdown",
   "metadata": {
    "slideshow": {
     "slide_type": "slide"
    }
   },
   "source": [
    "# Algebraic data types: Example"
   ]
  },
  {
   "cell_type": "code",
   "execution_count": 9,
   "metadata": {},
   "outputs": [
    {
     "data": {
      "text/plain": [
       "defined \u001b[32mtrait\u001b[39m \u001b[36mExpression\u001b[39m\r\n",
       "defined \u001b[32mclass\u001b[39m \u001b[36mNumber\u001b[39m\r\n",
       "defined \u001b[32mclass\u001b[39m \u001b[36mPlus\u001b[39m\r\n",
       "defined \u001b[32mclass\u001b[39m \u001b[36mMinus\u001b[39m\r\n",
       "\u001b[36mexpression\u001b[39m: \u001b[32mPlus\u001b[39m = \u001b[33mPlus\u001b[39m(\u001b[33mNumber\u001b[39m(\u001b[32m5\u001b[39m), \u001b[33mMinus\u001b[39m(\u001b[33mNumber\u001b[39m(\u001b[32m3\u001b[39m), \u001b[33mNumber\u001b[39m(\u001b[32m1\u001b[39m)))"
      ]
     },
     "execution_count": 9,
     "metadata": {},
     "output_type": "execute_result"
    }
   ],
   "source": [
    "trait Expression \n",
    "case class Number(n : Int) extends Expression\n",
    "case class Plus(a : Expression, b : Expression) extends Expression\n",
    "case class Minus(a : Expression, b : Expression) extends Expression\n",
    "\n",
    "val expression = Plus(Number(5), Minus(Number(3), Number(1)))"
   ]
  },
  {
   "cell_type": "markdown",
   "metadata": {
    "slideshow": {
     "slide_type": "slide"
    }
   },
   "source": [
    "# Taking things apart\n",
    "\n",
    "> Sum types are desctructed by *pattern matching*"
   ]
  },
  {
   "cell_type": "code",
   "execution_count": 10,
   "metadata": {
    "scrolled": true,
    "slideshow": {
     "slide_type": "fragment"
    }
   },
   "outputs": [
    {
     "data": {
      "text/plain": [
       "defined \u001b[32mfunction\u001b[39m \u001b[36mevaluate\u001b[39m"
      ]
     },
     "execution_count": 10,
     "metadata": {},
     "output_type": "execute_result"
    }
   ],
   "source": [
    "def evaluate(expr : Expression) : Int = {\n",
    "    expr match {\n",
    "        case Number(n) => n\n",
    "        case Plus(a, b) => evaluate(a) + evaluate(b)\n",
    "        case Minus(a, b) => evaluate(a) - evaluate(b)\n",
    "    }\n",
    "}"
   ]
  },
  {
   "cell_type": "markdown",
   "metadata": {
    "slideshow": {
     "slide_type": "slide"
    }
   },
   "source": [
    "### Miniexercise\n",
    "\n",
    "Consider the following Scala code\n",
    "```scala \n",
    "val aMesh = MeshIO.readMesh(new java.io.File(\"aFile.ply\")).get\n",
    "```\n",
    "\n",
    "* What is the type of ```aMesh```?\n",
    "* What is the type of ```aMesh``` when you remove the ```.get```?\n",
    "* What does the method ```.get```  do?\n",
    "* The type returned by ```MeshIO.readMesh(new java.io.File(\"aFile.ply\")``` is a sum type. What are its possible concrete types it can take on?\n",
    "    * How would you use them to do proper error handling?\n",
    "  \n",
    "* Use IntelliJ / ScalaDoc / google to answer these questions. \n",
    " "
   ]
  },
  {
   "cell_type": "code",
   "execution_count": null,
   "metadata": {},
   "outputs": [],
   "source": []
  }
 ],
 "metadata": {
  "celltoolbar": "Slideshow",
  "kernelspec": {
   "display_name": "Scala",
   "language": "scala",
   "name": "scala"
  },
  "language_info": {
   "codemirror_mode": "text/x-scala",
   "file_extension": ".sc",
   "mimetype": "text/x-scala",
   "name": "scala",
   "nbconvert_exporter": "script",
   "version": "2.13.1"
  }
 },
 "nbformat": 4,
 "nbformat_minor": 2
}
