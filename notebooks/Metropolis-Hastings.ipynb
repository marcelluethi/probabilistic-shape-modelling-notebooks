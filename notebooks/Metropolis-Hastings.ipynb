{
 "cells": [
  {
   "cell_type": "markdown",
   "metadata": {},
   "source": [
    "# Metropolis Sampling"
   ]
  },
  {
   "cell_type": "markdown",
   "metadata": {},
   "source": [
    "### Preparation"
   ]
  },
  {
   "cell_type": "markdown",
   "metadata": {},
   "source": [
    "Before we start, we need to download the plotting library [EvilPlot](https://cibotech.github.io/evilplot/) and make it available in the Jupyter-Notebook. It may take some time when you execute the following cells for the first time. "
   ]
  },
  {
   "cell_type": "code",
   "execution_count": null,
   "metadata": {},
   "outputs": [],
   "source": [
    "interp.repositories() ++= Seq(\n",
    "  coursierapi.MavenRepository.of(\"https://dl.bintray.com/cibotech/public\")\n",
    ")"
   ]
  },
  {
   "cell_type": "code",
   "execution_count": null,
   "metadata": {},
   "outputs": [],
   "source": [
    "import $ivy.`com.cibo::evilplot-repl:0.7.0`\n",
    "\n",
    "import com.cibo.evilplot.plot._\n",
    "import com.cibo.evilplot.plot.renderers.PointRenderer\n",
    "\n",
    "import com.cibo.evilplot.plot.aesthetics.DefaultTheme._\n",
    "import com.cibo.evilplot.numeric.Point\n",
    "import com.cibo.evilplot.colors._\n",
    "import breeze.linalg.{DenseVector, DenseMatrix}\n",
    "\n",
    "def showPlot(plot: com.cibo.evilplot.geometry.Drawable) = \n",
    "  Image.fromRenderedImage(plot.asBufferedImage, Image.PNG)\n"
   ]
  },
  {
   "cell_type": "markdown",
   "metadata": {},
   "source": [
    "We also initialize a global random number generator, which we use whenever we need a new random number in our algorithm."
   ]
  },
  {
   "cell_type": "code",
   "execution_count": null,
   "metadata": {},
   "outputs": [],
   "source": [
    "// We keep random number generator around as global state\n",
    "val rng = new scala.util.Random()"
   ]
  },
  {
   "cell_type": "markdown",
   "metadata": {},
   "source": [
    "### The Metropolis algorithm"
   ]
  },
  {
   "cell_type": "markdown",
   "metadata": {},
   "source": [
    "We start by making some type definitions, such that the definitions of the functions we will define below become more clear. "
   ]
  },
  {
   "cell_type": "markdown",
   "metadata": {},
   "source": [
    "In our example we define a distribution via the probabilisty density function (pdf). As we are working with random vectors, the pdf maps a vector of values to the corresponding density value."
   ]
  },
  {
   "cell_type": "code",
   "execution_count": null,
   "metadata": {},
   "outputs": [],
   "source": [
    "type PDF = DenseVector[Double] => Double\n"
   ]
  },
  {
   "cell_type": "markdown",
   "metadata": {},
   "source": [
    "The Metropolis algorithm works by simulating a random path through the points on which the PDF is defined. We call each possible point on the path a ```State```. "
   ]
  },
  {
   "cell_type": "code",
   "execution_count": null,
   "metadata": {},
   "outputs": [],
   "source": [
    "type State = DenseVector[Double]\n"
   ]
  },
  {
   "cell_type": "markdown",
   "metadata": {},
   "source": [
    "The algorithm advanced by moving from one state to a new state. A possible new state is proposed using a proposal function. The proposal function takes a state and return a new state."
   ]
  },
  {
   "cell_type": "code",
   "execution_count": null,
   "metadata": {},
   "outputs": [],
   "source": [
    "type Proposal = State => State"
   ]
  },
  {
   "cell_type": "markdown",
   "metadata": {},
   "source": [
    "For visualization and diagnostic purposes, it will be interesting to keep track during the run of the algorithm whether a newly proposed state was accepted. We therefore introduce a new type ```StateWithInfo```, which, along with a state, also keeps the information which state was proposed. "
   ]
  },
  {
   "cell_type": "code",
   "execution_count": null,
   "metadata": {},
   "outputs": [],
   "source": [
    "case class StateWithInfo(state : State, proposedState : State) {\n",
    "    def isAccepted : Boolean = state == proposedState\n",
    "}"
   ]
  },
  {
   "cell_type": "markdown",
   "metadata": {},
   "source": [
    "\n",
    "With these definitions, we are ready to implement the metropolis sampler. "
   ]
  },
  {
   "cell_type": "code",
   "execution_count": null,
   "metadata": {},
   "outputs": [],
   "source": [
    "// Sampler "
   ]
  },
  {
   "cell_type": "markdown",
   "metadata": {},
   "source": [
    "### Simple example: Sampling from a bivariate normal distribution"
   ]
  },
  {
   "cell_type": "markdown",
   "metadata": {},
   "source": [
    "We can now use the sample to sample from a probability distribution. To experiment with the sampler, we start with a simple bivariate normal distribution. "
   ]
  },
  {
   "cell_type": "code",
   "execution_count": null,
   "metadata": {},
   "outputs": [],
   "source": [
    "import breeze.stats.distributions.MultivariateGaussian \n",
    "\n",
    "def bivariatePDF(x : DenseVector[Double]) : Double = {\n",
    "    val mean = DenseVector(9.0, 7.0)\n",
    "    val cov = DenseMatrix((1.0, 0.9), (0.9, 1.0))\n",
    "    val dist = MultivariateGaussian(mean, cov)\n",
    "    \n",
    "    dist.pdf(x)\n",
    "}"
   ]
  },
  {
   "cell_type": "markdown",
   "metadata": {},
   "source": [
    "We also need to define a proposal generator. We define a simple random walk proposal, which chooses the new direction and step length randomly."
   ]
  },
  {
   "cell_type": "code",
   "execution_count": null,
   "metadata": {},
   "outputs": [],
   "source": [
    "def randomWalkProposal(x : State) : State = {\n",
    "    val stepLength = 1.0\n",
    "    \n",
    "    val step = DenseVector(rng.nextGaussian() * stepLength, rng.nextGaussian() * stepLength)\n",
    "    x + step\n",
    "}"
   ]
  },
  {
   "cell_type": "markdown",
   "metadata": {},
   "source": [
    "Now we can draw samples using our sampler:"
   ]
  },
  {
   "cell_type": "code",
   "execution_count": null,
   "metadata": {},
   "outputs": [],
   "source": [
    "val samples = metropolisSampler(bivariatePDF, randomWalkProposal, DenseVector(0.0, 0.0),1000)"
   ]
  },
  {
   "cell_type": "markdown",
   "metadata": {},
   "source": [
    "To understand how the metropolis algorithm works, it is interesting to visualize not only the accepted samples, but also those which are rejected, and possibly the path that was taken. This is achieved by the following plot function. "
   ]
  },
  {
   "cell_type": "code",
   "execution_count": null,
   "metadata": {},
   "outputs": [],
   "source": [
    "def plot(samples : Seq[StateWithInfo], plotRejected : Boolean = false, plotLines : Boolean = false) : Image = {\n",
    "    \n",
    "    val acceptedPlot = ScatterPlot.series(\n",
    "        samples.filter(s => s.isAccepted).map(s => Point(s.state(0), s.state(1))), \n",
    "        \"accepted\", \n",
    "        HTMLNamedColors.blue, \n",
    "        pointSize = Some(3)\n",
    "    )\n",
    "    val rejectedPlot = ScatterPlot.series(\n",
    "        samples.filter(s => s.state != s.proposedState).map(s => Point(s.proposedState(0), s.proposedState(1))),\n",
    "        \"rejected\", \n",
    "        HTMLNamedColors.red ,\n",
    "        pointSize = Some(3)  \n",
    "    )\n",
    "    val linePlot =  LinePlot(\n",
    "        samples.flatMap(s => \n",
    "                        if (!s.isAccepted) {        \n",
    "                            Seq(Point(s.proposedState(0), s.proposedState(1)), Point(s.state(0), s.state(1)))\n",
    "                        } else {\n",
    "                            Seq(Point(s.state(0), s.state(1)))\n",
    "                        })\n",
    "    )\n",
    "    var plots = Seq(acceptedPlot)\n",
    "    if (plotRejected) plots = plots :+ rejectedPlot\n",
    "    if (plotLines) plots = plots :+ linePlot\n",
    "    \n",
    "    val plot = Overlay.fromSeq(plots)\n",
    "    .xAxis()\n",
    "    .xbounds(-20, 20)\n",
    "    .yAxis()\n",
    "    .ybounds(-20, 20)\n",
    "    .frame()\n",
    "    .xLabel(\"x\")\n",
    "    .yLabel(\"y\")\n",
    "    .rightLegend()\n",
    "    .render()\n",
    "    showPlot(plot)\n",
    "}"
   ]
  },
  {
   "cell_type": "markdown",
   "metadata": {},
   "source": [
    "We can now plot our samples and start experimenting:"
   ]
  },
  {
   "cell_type": "code",
   "execution_count": null,
   "metadata": {},
   "outputs": [],
   "source": [
    "plot(samples, plotRejected = false, plotLines = false)"
   ]
  },
  {
   "cell_type": "markdown",
   "metadata": {},
   "source": [
    "#### Exercises\n",
    "\n",
    "* Draw only a few samples and trace the path (set ```plotLines = true``` in the plot function). \n",
    "    * We usually throw away the first samples when we run a chain. Can you see why?\n",
    "* Play with different step-length in the proposal.\n",
    "    * What happens to the acceptance and rejection rate? \n",
    "    * How well is the target distribution approximated after a fixed number of samples\n",
    "* Experiment with different target distributions. \n",
    "    * Make the variance larger and smaller\n",
    "    * Change the correlation \n",
    "    * Give all samples whose x value is larger then 5 the probability 0. \n",
    "        * Do you need to normalize the pdf? why, why not?\n"
   ]
  },
  {
   "cell_type": "markdown",
   "metadata": {},
   "source": [
    "### Estimating quantities"
   ]
  },
  {
   "cell_type": "markdown",
   "metadata": {},
   "source": [
    "Now that we have samples, we can start estimating interesting quantities. \n",
    "For example, we can use the samples to estimate the mean and covariance:"
   ]
  },
  {
   "cell_type": "code",
   "execution_count": null,
   "metadata": {},
   "outputs": [],
   "source": [
    "def mean(samples : Seq[DenseVector[Double]]) : DenseVector[Double] = {\n",
    "    val zeroVec = DenseVector.zeros[Double](samples(0).length)\n",
    "    samples.foldLeft(zeroVec)((acc, s) => acc + s) * (1.0 / samples.size)\n",
    "}\n",
    "\n",
    "def cov(samples : Seq[DenseVector[Double]]) : DenseMatrix[Double] = {\n",
    "    val zeroMat = DenseMatrix.zeros[Double](samples(0).size, samples(0).size)\n",
    "    samples.foldLeft(zeroMat)((acc, s) => (acc + s * s.t)) * (1.0 / samples.size)\n",
    "}"
   ]
  },
  {
   "cell_type": "markdown",
   "metadata": {},
   "source": [
    "To call these functions, we strip away the debugging information (i.e. the state that was proposed) that we stored along with the state."
   ]
  },
  {
   "cell_type": "code",
   "execution_count": null,
   "metadata": {},
   "outputs": [],
   "source": [
    "val sampledStates = samples.map(s => s.state)\n",
    "mean(sampledStates)\n",
    "cov(sampledStates)"
   ]
  },
  {
   "cell_type": "markdown",
   "metadata": {},
   "source": [
    "We can also use the samples to estimate the expected value of a function:"
   ]
  },
  {
   "cell_type": "code",
   "execution_count": null,
   "metadata": {},
   "outputs": [],
   "source": [
    "def expectation(samples : Seq[DenseVector[Double]], f : DenseVector[Double] => Double) : Double = {\n",
    "    samples.map(f).sum / samples.size\n",
    "}"
   ]
  },
  {
   "cell_type": "markdown",
   "metadata": {},
   "source": [
    "In this example we use the samples to compute the expectation of the function $$x \\mapsto sin(x_0) \\cdot sin(x_1)$$"
   ]
  },
  {
   "cell_type": "code",
   "execution_count": null,
   "metadata": {},
   "outputs": [],
   "source": [
    "expectation(sampledStates, (x : DenseVector[Double]) => math.sin(x(0) * math.sin(x(1))))"
   ]
  },
  {
   "cell_type": "markdown",
   "metadata": {},
   "source": [
    "### Exercise\n",
    "\n",
    "* How do you obtain an expectation over the marginal distribution?"
   ]
  },
  {
   "cell_type": "code",
   "execution_count": null,
   "metadata": {},
   "outputs": [],
   "source": []
  }
 ],
 "metadata": {
  "kernelspec": {
   "display_name": "Scala",
   "language": "scala",
   "name": "scala"
  },
  "language_info": {
   "codemirror_mode": "text/x-scala",
   "file_extension": ".scala",
   "mimetype": "text/x-scala",
   "name": "scala",
   "nbconvert_exporter": "script",
   "version": "2.12.8"
  }
 },
 "nbformat": 4,
 "nbformat_minor": 2
}
